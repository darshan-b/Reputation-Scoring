{
 "cells": [
  {
   "cell_type": "code",
   "execution_count": 4,
   "metadata": {
    "collapsed": true
   },
   "outputs": [],
   "source": [
    "%matplotlib inline\n",
    "import matplotlib.pyplot as plt\n",
    "import seaborn as sns\n",
    "import pymc3 as pm\n",
    "import numpy as np\n",
    "import  pandas as pd\n",
    "\n",
    "from sklearn.naive_bayes import GaussianNB\n",
    "from sklearn.metrics import accuracy_score\n",
    "from sklearn.model_selection import train_test_split\n",
    "from pandas_ml import ConfusionMatrix as cm\n",
    "from sklearn import svm\n",
    "from sklearn.preprocessing import StandardScaler\n",
    "\n",
    "from sklearn.linear_model import LogisticRegression\n",
    "\n",
    "import warnings\n",
    "warnings.filterwarnings('ignore')\n",
    "import scipy.stats as st\n",
    "import statsmodels as sm\n",
    "import matplotlib\n",
    "\n",
    "from IPython.display import display,clear_output,HTML"
   ]
  },
  {
   "cell_type": "code",
   "execution_count": 5,
   "metadata": {},
   "outputs": [
    {
     "name": "stdout",
     "output_type": "stream",
     "text": [
      "The feature vector for infected users and sample of uninfected users\n",
      "Infected/Unifected Users\n"
     ]
    },
    {
     "data": {
      "text/plain": [
       "1    2910\n",
       "0    2910\n",
       "Name: Target, dtype: int64"
      ]
     },
     "metadata": {},
     "output_type": "display_data"
    }
   ],
   "source": [
    "z=pd.read_csv('Feature_Vector_50_50_12_24_random_state_0.csv',index_col='User')\n",
    "\n",
    "\n",
    "print(\"The feature vector for infected users and sample of uninfected users\")\n",
    "print('Infected/Unifected Users')\n",
    "display(z.Target.value_counts())\n",
    "\n",
    "for col in z.columns[:-1]:\n",
    "    z[col]=z[col].apply(lambda x: np.log(x))\n",
    "    \n",
    "z.replace([np.inf,-np.inf],0,inplace=True)"
   ]
  },
  {
   "cell_type": "code",
   "execution_count": 6,
   "metadata": {},
   "outputs": [
    {
     "data": {
      "text/html": [
       "<div>\n",
       "<style scoped>\n",
       "    .dataframe tbody tr th:only-of-type {\n",
       "        vertical-align: middle;\n",
       "    }\n",
       "\n",
       "    .dataframe tbody tr th {\n",
       "        vertical-align: top;\n",
       "    }\n",
       "\n",
       "    .dataframe thead th {\n",
       "        text-align: right;\n",
       "    }\n",
       "</style>\n",
       "<table border=\"1\" class=\"dataframe\">\n",
       "  <thead>\n",
       "    <tr style=\"text-align: right;\">\n",
       "      <th></th>\n",
       "      <th>SP</th>\n",
       "      <th>DP</th>\n",
       "      <th>NAPP</th>\n",
       "      <th>SIP</th>\n",
       "      <th>DIP</th>\n",
       "      <th>NREC</th>\n",
       "      <th>PAR</th>\n",
       "      <th>PAS</th>\n",
       "      <th>LEN</th>\n",
       "      <th>BYS</th>\n",
       "      <th>...</th>\n",
       "      <th>1400</th>\n",
       "      <th>1500</th>\n",
       "      <th>1600</th>\n",
       "      <th>1700</th>\n",
       "      <th>1800</th>\n",
       "      <th>1900</th>\n",
       "      <th>2000</th>\n",
       "      <th>2100</th>\n",
       "      <th>2200</th>\n",
       "      <th>2300</th>\n",
       "    </tr>\n",
       "    <tr>\n",
       "      <th>User</th>\n",
       "      <th></th>\n",
       "      <th></th>\n",
       "      <th></th>\n",
       "      <th></th>\n",
       "      <th></th>\n",
       "      <th></th>\n",
       "      <th></th>\n",
       "      <th></th>\n",
       "      <th></th>\n",
       "      <th></th>\n",
       "      <th></th>\n",
       "      <th></th>\n",
       "      <th></th>\n",
       "      <th></th>\n",
       "      <th></th>\n",
       "      <th></th>\n",
       "      <th></th>\n",
       "      <th></th>\n",
       "      <th></th>\n",
       "      <th></th>\n",
       "      <th></th>\n",
       "    </tr>\n",
       "  </thead>\n",
       "  <tbody>\n",
       "    <tr>\n",
       "      <th>acbc3e760a890f55ceafd2573cde6f7c040dae93259a0cdfc7d1338dd60c6953</th>\n",
       "      <td>8.832734</td>\n",
       "      <td>4.234107</td>\n",
       "      <td>4.248495</td>\n",
       "      <td>4.624973</td>\n",
       "      <td>7.315218</td>\n",
       "      <td>8.921858</td>\n",
       "      <td>5.204284</td>\n",
       "      <td>4.250029</td>\n",
       "      <td>4.695142</td>\n",
       "      <td>9.834805</td>\n",
       "      <td>...</td>\n",
       "      <td>5.590987</td>\n",
       "      <td>5.988961</td>\n",
       "      <td>6.715383</td>\n",
       "      <td>5.733341</td>\n",
       "      <td>5.407172</td>\n",
       "      <td>5.575949</td>\n",
       "      <td>5.433722</td>\n",
       "      <td>4.828314</td>\n",
       "      <td>4.836282</td>\n",
       "      <td>5.402677</td>\n",
       "    </tr>\n",
       "    <tr>\n",
       "      <th>3c45372db59b842faec38488806b64c282270417f6755ba493e51eda8e98b402</th>\n",
       "      <td>2.564949</td>\n",
       "      <td>1.386294</td>\n",
       "      <td>1.386294</td>\n",
       "      <td>1.098612</td>\n",
       "      <td>2.079442</td>\n",
       "      <td>2.564949</td>\n",
       "      <td>4.582610</td>\n",
       "      <td>4.499810</td>\n",
       "      <td>4.482568</td>\n",
       "      <td>8.956371</td>\n",
       "      <td>...</td>\n",
       "      <td>0.000000</td>\n",
       "      <td>0.000000</td>\n",
       "      <td>1.945910</td>\n",
       "      <td>0.000000</td>\n",
       "      <td>0.000000</td>\n",
       "      <td>0.000000</td>\n",
       "      <td>0.000000</td>\n",
       "      <td>0.000000</td>\n",
       "      <td>0.000000</td>\n",
       "      <td>0.000000</td>\n",
       "    </tr>\n",
       "  </tbody>\n",
       "</table>\n",
       "<p>2 rows × 35 columns</p>\n",
       "</div>"
      ],
      "text/plain": [
       "                                                          SP        DP  \\\n",
       "User                                                                     \n",
       "acbc3e760a890f55ceafd2573cde6f7c040dae93259a0cd...  8.832734  4.234107   \n",
       "3c45372db59b842faec38488806b64c282270417f6755ba...  2.564949  1.386294   \n",
       "\n",
       "                                                        NAPP       SIP  \\\n",
       "User                                                                     \n",
       "acbc3e760a890f55ceafd2573cde6f7c040dae93259a0cd...  4.248495  4.624973   \n",
       "3c45372db59b842faec38488806b64c282270417f6755ba...  1.386294  1.098612   \n",
       "\n",
       "                                                         DIP      NREC  \\\n",
       "User                                                                     \n",
       "acbc3e760a890f55ceafd2573cde6f7c040dae93259a0cd...  7.315218  8.921858   \n",
       "3c45372db59b842faec38488806b64c282270417f6755ba...  2.079442  2.564949   \n",
       "\n",
       "                                                         PAR       PAS  \\\n",
       "User                                                                     \n",
       "acbc3e760a890f55ceafd2573cde6f7c040dae93259a0cd...  5.204284  4.250029   \n",
       "3c45372db59b842faec38488806b64c282270417f6755ba...  4.582610  4.499810   \n",
       "\n",
       "                                                         LEN       BYS  \\\n",
       "User                                                                     \n",
       "acbc3e760a890f55ceafd2573cde6f7c040dae93259a0cd...  4.695142  9.834805   \n",
       "3c45372db59b842faec38488806b64c282270417f6755ba...  4.482568  8.956371   \n",
       "\n",
       "                                                      ...         1400  \\\n",
       "User                                                  ...                \n",
       "acbc3e760a890f55ceafd2573cde6f7c040dae93259a0cd...    ...     5.590987   \n",
       "3c45372db59b842faec38488806b64c282270417f6755ba...    ...     0.000000   \n",
       "\n",
       "                                                        1500      1600  \\\n",
       "User                                                                     \n",
       "acbc3e760a890f55ceafd2573cde6f7c040dae93259a0cd...  5.988961  6.715383   \n",
       "3c45372db59b842faec38488806b64c282270417f6755ba...  0.000000  1.945910   \n",
       "\n",
       "                                                        1700      1800  \\\n",
       "User                                                                     \n",
       "acbc3e760a890f55ceafd2573cde6f7c040dae93259a0cd...  5.733341  5.407172   \n",
       "3c45372db59b842faec38488806b64c282270417f6755ba...  0.000000  0.000000   \n",
       "\n",
       "                                                        1900      2000  \\\n",
       "User                                                                     \n",
       "acbc3e760a890f55ceafd2573cde6f7c040dae93259a0cd...  5.575949  5.433722   \n",
       "3c45372db59b842faec38488806b64c282270417f6755ba...  0.000000  0.000000   \n",
       "\n",
       "                                                        2100      2200  \\\n",
       "User                                                                     \n",
       "acbc3e760a890f55ceafd2573cde6f7c040dae93259a0cd...  4.828314  4.836282   \n",
       "3c45372db59b842faec38488806b64c282270417f6755ba...  0.000000  0.000000   \n",
       "\n",
       "                                                        2300  \n",
       "User                                                          \n",
       "acbc3e760a890f55ceafd2573cde6f7c040dae93259a0cd...  5.402677  \n",
       "3c45372db59b842faec38488806b64c282270417f6755ba...  0.000000  \n",
       "\n",
       "[2 rows x 35 columns]"
      ]
     },
     "metadata": {},
     "output_type": "display_data"
    },
    {
     "name": "stdout",
     "output_type": "stream",
     "text": [
      "1 -> Infected\n",
      "0 -> Uninfected\n"
     ]
    },
    {
     "data": {
      "text/plain": [
       "User\n",
       "acbc3e760a890f55ceafd2573cde6f7c040dae93259a0cdfc7d1338dd60c6953    1\n",
       "3c45372db59b842faec38488806b64c282270417f6755ba493e51eda8e98b402    0\n",
       "653fe3e24024826e008a512560be7abb15b06bd46e89ba4159dbdc6b8b5983c3    0\n",
       "8c8d63c29001941282625da51ded54c9305c2b2c5ed680ef803b61b1231a2107    1\n",
       "ac87be58a25e50356ef8d66135f93392ac6c40f3c7b557e7c16f663ce168e9fc    1\n",
       "Name: Target, dtype: int64"
      ]
     },
     "metadata": {},
     "output_type": "display_data"
    },
    {
     "name": "stdout",
     "output_type": "stream",
     "text": [
      "The train/test split ratio is 80:20\n"
     ]
    }
   ],
   "source": [
    "X=z.iloc[:,z.columns!='Target']\n",
    "display(X.head(2))\n",
    "\n",
    "### Build our target variable\n",
    "print(\"1 -> Infected\\n0 -> Uninfected\")\n",
    "Y=z.Target\n",
    "# # Y=Y.apply(lambda x: 1 if x=='infected' else 0)\n",
    "display(Y.head(5))\n",
    "\n",
    "### Scale feature set  using Standard Scaler\n",
    "scaler=StandardScaler()\n",
    "scaled_X=scaler.fit_transform(X)\n",
    "\n",
    "\n",
    "print(\"The train/test split ratio is 80:20\")\n",
    "X_train, X_test, Y_train, Y_test = train_test_split(scaled_X,Y,random_state=0,test_size=0.2)\n"
   ]
  },
  {
   "cell_type": "markdown",
   "metadata": {},
   "source": [
    "### Model on all of the features for all the users. (Just for an overview of the performace of the alogorithm)"
   ]
  },
  {
   "cell_type": "code",
   "execution_count": 7,
   "metadata": {},
   "outputs": [
    {
     "name": "stdout",
     "output_type": "stream",
     "text": [
      "Accuracy on training data is:  0.79295532646\n",
      "Confusion matrix for Training data\n",
      "\n"
     ]
    },
    {
     "data": {
      "text/plain": [
       "Predicted  False  True  __all__\n",
       "Actual                         \n",
       "False       1703   614     2317\n",
       "True         350  1989     2339\n",
       "__all__     2053  2603     4656"
      ]
     },
     "metadata": {},
     "output_type": "display_data"
    },
    {
     "name": "stdout",
     "output_type": "stream",
     "text": [
      "Accuracy on test data is:  0.806701030928\n",
      "Confusion matrix for Test data\n",
      "\n"
     ]
    },
    {
     "data": {
      "text/plain": [
       "Predicted  False  True  __all__\n",
       "Actual                         \n",
       "False        452   141      593\n",
       "True          84   487      571\n",
       "__all__      536   628     1164"
      ]
     },
     "metadata": {},
     "output_type": "display_data"
    }
   ],
   "source": [
    "clf = GaussianNB()\n",
    "clf.fit(X_train, Y_train)\n",
    "print(\"Accuracy on training data is: \",clf.score(X_train,Y_train))\n",
    "print(\"Confusion matrix for Training data\\n\")\n",
    "display(cm(Y_train.values,clf.predict(X_train)))\n",
    "\n",
    "y_pred=clf.predict(X_test)\n",
    "print(\"Accuracy on test data is: \",accuracy_score(Y_test,y_pred))\n",
    "print(\"Confusion matrix for Test data\\n\")\n",
    "display(cm(Y_test.values,y_pred))"
   ]
  },
  {
   "cell_type": "markdown",
   "metadata": {},
   "source": [
    "### Malicious Users"
   ]
  },
  {
   "cell_type": "code",
   "execution_count": 8,
   "metadata": {
    "scrolled": false
   },
   "outputs": [
    {
     "name": "stdout",
     "output_type": "stream",
     "text": [
      "\n",
      "Feature - SP\n",
      "Accuracy on training data is:  1.0\n",
      "Accuracy on test data is:  1.0\n",
      "\n",
      "Feature - DP\n",
      "Accuracy on training data is:  1.0\n",
      "Accuracy on test data is:  1.0\n",
      "\n",
      "Feature - NAPP\n",
      "Accuracy on training data is:  1.0\n",
      "Accuracy on test data is:  1.0\n",
      "\n",
      "Feature - SIP\n",
      "Accuracy on training data is:  1.0\n",
      "Accuracy on test data is:  1.0\n",
      "\n",
      "Feature - DIP\n",
      "Accuracy on training data is:  1.0\n",
      "Accuracy on test data is:  1.0\n",
      "\n",
      "Feature - NREC\n",
      "Accuracy on training data is:  1.0\n",
      "Accuracy on test data is:  1.0\n",
      "\n",
      "Feature - PAR\n",
      "Accuracy on training data is:  1.0\n",
      "Accuracy on test data is:  1.0\n",
      "\n",
      "Feature - PAS\n",
      "Accuracy on training data is:  1.0\n",
      "Accuracy on test data is:  1.0\n",
      "\n",
      "Feature - LEN\n",
      "Accuracy on training data is:  1.0\n",
      "Accuracy on test data is:  1.0\n",
      "\n",
      "Feature - BYS\n",
      "Accuracy on training data is:  1.0\n",
      "Accuracy on test data is:  1.0\n",
      "\n",
      "Feature - BYR\n",
      "Accuracy on training data is:  1.0\n",
      "Accuracy on test data is:  1.0\n",
      "\n",
      "Feature - 0000\n",
      "Accuracy on training data is:  1.0\n",
      "Accuracy on test data is:  1.0\n",
      "\n",
      "Feature - 0100\n",
      "Accuracy on training data is:  1.0\n",
      "Accuracy on test data is:  1.0\n",
      "\n",
      "Feature - 0200\n",
      "Accuracy on training data is:  1.0\n",
      "Accuracy on test data is:  1.0\n",
      "\n",
      "Feature - 0300\n",
      "Accuracy on training data is:  1.0\n",
      "Accuracy on test data is:  1.0\n",
      "\n",
      "Feature - 0400\n",
      "Accuracy on training data is:  1.0\n",
      "Accuracy on test data is:  1.0\n",
      "\n",
      "Feature - 0500\n",
      "Accuracy on training data is:  1.0\n",
      "Accuracy on test data is:  1.0\n",
      "\n",
      "Feature - 0600\n",
      "Accuracy on training data is:  1.0\n",
      "Accuracy on test data is:  1.0\n",
      "\n",
      "Feature - 0700\n",
      "Accuracy on training data is:  1.0\n",
      "Accuracy on test data is:  1.0\n",
      "\n",
      "Feature - 0800\n",
      "Accuracy on training data is:  1.0\n",
      "Accuracy on test data is:  1.0\n",
      "\n",
      "Feature - 0900\n",
      "Accuracy on training data is:  1.0\n",
      "Accuracy on test data is:  1.0\n",
      "\n",
      "Feature - 1000\n",
      "Accuracy on training data is:  1.0\n",
      "Accuracy on test data is:  1.0\n",
      "\n",
      "Feature - 1100\n",
      "Accuracy on training data is:  1.0\n",
      "Accuracy on test data is:  1.0\n",
      "\n",
      "Feature - 1200\n",
      "Accuracy on training data is:  1.0\n",
      "Accuracy on test data is:  1.0\n",
      "\n",
      "Feature - 1300\n",
      "Accuracy on training data is:  1.0\n",
      "Accuracy on test data is:  1.0\n",
      "\n",
      "Feature - 1400\n",
      "Accuracy on training data is:  1.0\n",
      "Accuracy on test data is:  1.0\n",
      "\n",
      "Feature - 1500\n",
      "Accuracy on training data is:  1.0\n",
      "Accuracy on test data is:  1.0\n",
      "\n",
      "Feature - 1600\n",
      "Accuracy on training data is:  1.0\n",
      "Accuracy on test data is:  1.0\n",
      "\n",
      "Feature - 1700\n",
      "Accuracy on training data is:  1.0\n",
      "Accuracy on test data is:  1.0\n",
      "\n",
      "Feature - 1800\n",
      "Accuracy on training data is:  1.0\n",
      "Accuracy on test data is:  1.0\n",
      "\n",
      "Feature - 1900\n",
      "Accuracy on training data is:  1.0\n",
      "Accuracy on test data is:  1.0\n",
      "\n",
      "Feature - 2000\n",
      "Accuracy on training data is:  1.0\n",
      "Accuracy on test data is:  1.0\n",
      "\n",
      "Feature - 2100\n",
      "Accuracy on training data is:  1.0\n",
      "Accuracy on test data is:  1.0\n",
      "\n",
      "Feature - 2200\n",
      "Accuracy on training data is:  1.0\n",
      "Accuracy on test data is:  1.0\n",
      "\n",
      "Feature - 2300\n",
      "Accuracy on training data is:  1.0\n",
      "Accuracy on test data is:  1.0\n"
     ]
    }
   ],
   "source": [
    "z_mal=z[z.Target.values==1]\n",
    "\n",
    "Y=z_mal.Target\n",
    "\n",
    "for col in z_mal.columns[:-1]:\n",
    "    X=z_mal[col].values\n",
    "    scaler=StandardScaler()\n",
    "    scaled_X=scaler.fit_transform(X.reshape(-1,1))\n",
    "    X_train, X_test, Y_train, Y_test = train_test_split(scaled_X,Y,random_state=0,test_size=0.2)\n",
    "    \n",
    "    print(\"\\nFeature -\",col)\n",
    "    clf = GaussianNB()\n",
    "    clf.fit(X_train, Y_train)\n",
    "    print(\"Accuracy on training data is: \",clf.score(X_train,Y_train))\n",
    "    y_pred=clf.predict(X_test)\n",
    "    print(\"Accuracy on test data is: \",accuracy_score(Y_test,y_pred))"
   ]
  },
  {
   "cell_type": "markdown",
   "metadata": {},
   "source": [
    "### For non-malicious users"
   ]
  },
  {
   "cell_type": "code",
   "execution_count": 9,
   "metadata": {
    "scrolled": false
   },
   "outputs": [
    {
     "name": "stdout",
     "output_type": "stream",
     "text": [
      "\n",
      "Feature - SP\n",
      "Accuracy on training data is:  1.0\n",
      "Accuracy on test data is:  1.0\n",
      "\n",
      "Feature - DP\n",
      "Accuracy on training data is:  1.0\n",
      "Accuracy on test data is:  1.0\n",
      "\n",
      "Feature - NAPP\n",
      "Accuracy on training data is:  1.0\n",
      "Accuracy on test data is:  1.0\n",
      "\n",
      "Feature - SIP\n",
      "Accuracy on training data is:  1.0\n",
      "Accuracy on test data is:  1.0\n",
      "\n",
      "Feature - DIP\n",
      "Accuracy on training data is:  1.0\n",
      "Accuracy on test data is:  1.0\n",
      "\n",
      "Feature - NREC\n",
      "Accuracy on training data is:  1.0\n",
      "Accuracy on test data is:  1.0\n",
      "\n",
      "Feature - PAR\n",
      "Accuracy on training data is:  1.0\n",
      "Accuracy on test data is:  1.0\n",
      "\n",
      "Feature - PAS\n",
      "Accuracy on training data is:  1.0\n",
      "Accuracy on test data is:  1.0\n",
      "\n",
      "Feature - LEN\n",
      "Accuracy on training data is:  1.0\n",
      "Accuracy on test data is:  1.0\n",
      "\n",
      "Feature - BYS\n",
      "Accuracy on training data is:  1.0\n",
      "Accuracy on test data is:  1.0\n",
      "\n",
      "Feature - BYR\n",
      "Accuracy on training data is:  1.0\n",
      "Accuracy on test data is:  1.0\n",
      "\n",
      "Feature - 0000\n",
      "Accuracy on training data is:  1.0\n",
      "Accuracy on test data is:  1.0\n",
      "\n",
      "Feature - 0100\n",
      "Accuracy on training data is:  1.0\n",
      "Accuracy on test data is:  1.0\n",
      "\n",
      "Feature - 0200\n",
      "Accuracy on training data is:  1.0\n",
      "Accuracy on test data is:  1.0\n",
      "\n",
      "Feature - 0300\n",
      "Accuracy on training data is:  1.0\n",
      "Accuracy on test data is:  1.0\n",
      "\n",
      "Feature - 0400\n",
      "Accuracy on training data is:  1.0\n",
      "Accuracy on test data is:  1.0\n",
      "\n",
      "Feature - 0500\n",
      "Accuracy on training data is:  1.0\n",
      "Accuracy on test data is:  1.0\n",
      "\n",
      "Feature - 0600\n",
      "Accuracy on training data is:  1.0\n",
      "Accuracy on test data is:  1.0\n",
      "\n",
      "Feature - 0700\n",
      "Accuracy on training data is:  1.0\n",
      "Accuracy on test data is:  1.0\n",
      "\n",
      "Feature - 0800\n",
      "Accuracy on training data is:  1.0\n",
      "Accuracy on test data is:  1.0\n",
      "\n",
      "Feature - 0900\n",
      "Accuracy on training data is:  1.0\n",
      "Accuracy on test data is:  1.0\n",
      "\n",
      "Feature - 1000\n",
      "Accuracy on training data is:  1.0\n",
      "Accuracy on test data is:  1.0\n",
      "\n",
      "Feature - 1100\n",
      "Accuracy on training data is:  1.0\n",
      "Accuracy on test data is:  1.0\n",
      "\n",
      "Feature - 1200\n",
      "Accuracy on training data is:  1.0\n",
      "Accuracy on test data is:  1.0\n",
      "\n",
      "Feature - 1300\n",
      "Accuracy on training data is:  1.0\n",
      "Accuracy on test data is:  1.0\n",
      "\n",
      "Feature - 1400\n",
      "Accuracy on training data is:  1.0\n",
      "Accuracy on test data is:  1.0\n",
      "\n",
      "Feature - 1500\n",
      "Accuracy on training data is:  1.0\n",
      "Accuracy on test data is:  1.0\n",
      "\n",
      "Feature - 1600\n",
      "Accuracy on training data is:  1.0\n",
      "Accuracy on test data is:  1.0\n",
      "\n",
      "Feature - 1700\n",
      "Accuracy on training data is:  1.0\n",
      "Accuracy on test data is:  1.0\n",
      "\n",
      "Feature - 1800\n",
      "Accuracy on training data is:  1.0\n",
      "Accuracy on test data is:  1.0\n",
      "\n",
      "Feature - 1900\n",
      "Accuracy on training data is:  1.0\n",
      "Accuracy on test data is:  1.0\n",
      "\n",
      "Feature - 2000\n",
      "Accuracy on training data is:  1.0\n",
      "Accuracy on test data is:  1.0\n",
      "\n",
      "Feature - 2100\n",
      "Accuracy on training data is:  1.0\n",
      "Accuracy on test data is:  1.0\n",
      "\n",
      "Feature - 2200\n",
      "Accuracy on training data is:  1.0\n",
      "Accuracy on test data is:  1.0\n",
      "\n",
      "Feature - 2300\n",
      "Accuracy on training data is:  1.0\n",
      "Accuracy on test data is:  1.0\n"
     ]
    }
   ],
   "source": [
    "z_non=z[z.Target.values==0]\n",
    "\n",
    "Y=z_non.Target\n",
    "\n",
    "for col in z_non.columns[:-1]:\n",
    "    X=z_non[col].values\n",
    "    scaler=StandardScaler()\n",
    "    scaled_X=scaler.fit_transform(X.reshape(-1,1))\n",
    "    X_train, X_test, Y_train, Y_test = train_test_split(scaled_X,Y,random_state=0,test_size=0.2)\n",
    "    \n",
    "    print(\"\\nFeature -\",col)\n",
    "    clf = GaussianNB()\n",
    "    clf.fit(X_train, Y_train)\n",
    "    print(\"Accuracy on training data is: \",clf.score(X_train,Y_train))\n",
    "    y_pred=clf.predict(X_test)\n",
    "    print(\"Accuracy on test data is: \",accuracy_score(Y_test,y_pred))"
   ]
  },
  {
   "cell_type": "markdown",
   "metadata": {},
   "source": [
    "### For all Users on each feature individually"
   ]
  },
  {
   "cell_type": "code",
   "execution_count": 10,
   "metadata": {},
   "outputs": [
    {
     "name": "stdout",
     "output_type": "stream",
     "text": [
      "\n",
      "Feature - SP\n",
      "Accuracy on training data is:  0.788659793814\n",
      "Confusion matrix for Training data\n",
      "\n"
     ]
    },
    {
     "data": {
      "text/plain": [
       "Predicted  False  True  __all__\n",
       "Actual                         \n",
       "False       1716   601     2317\n",
       "True         383  1956     2339\n",
       "__all__     2099  2557     4656"
      ]
     },
     "metadata": {},
     "output_type": "display_data"
    },
    {
     "name": "stdout",
     "output_type": "stream",
     "text": [
      "Accuracy on test data is:  0.801546391753\n",
      "Confusion matrix for Test data\n",
      "\n"
     ]
    },
    {
     "data": {
      "text/plain": [
       "Predicted  False  True  __all__\n",
       "Actual                         \n",
       "False        456   137      593\n",
       "True          94   477      571\n",
       "__all__      550   614     1164"
      ]
     },
     "metadata": {},
     "output_type": "display_data"
    },
    {
     "name": "stdout",
     "output_type": "stream",
     "text": [
      "\n",
      "Feature - DP\n",
      "Accuracy on training data is:  0.758805841924\n",
      "Confusion matrix for Training data\n",
      "\n"
     ]
    },
    {
     "data": {
      "text/plain": [
       "Predicted  False  True  __all__\n",
       "Actual                         \n",
       "False       1700   617     2317\n",
       "True         506  1833     2339\n",
       "__all__     2206  2450     4656"
      ]
     },
     "metadata": {},
     "output_type": "display_data"
    },
    {
     "name": "stdout",
     "output_type": "stream",
     "text": [
      "Accuracy on test data is:  0.770618556701\n",
      "Confusion matrix for Test data\n",
      "\n"
     ]
    },
    {
     "data": {
      "text/plain": [
       "Predicted  False  True  __all__\n",
       "Actual                         \n",
       "False        445   148      593\n",
       "True         119   452      571\n",
       "__all__      564   600     1164"
      ]
     },
     "metadata": {},
     "output_type": "display_data"
    },
    {
     "name": "stdout",
     "output_type": "stream",
     "text": [
      "\n",
      "Feature - NAPP\n",
      "Accuracy on training data is:  0.775128865979\n",
      "Confusion matrix for Training data\n",
      "\n"
     ]
    },
    {
     "data": {
      "text/plain": [
       "Predicted  False  True  __all__\n",
       "Actual                         \n",
       "False       1650   667     2317\n",
       "True         380  1959     2339\n",
       "__all__     2030  2626     4656"
      ]
     },
     "metadata": {},
     "output_type": "display_data"
    },
    {
     "name": "stdout",
     "output_type": "stream",
     "text": [
      "Accuracy on test data is:  0.800687285223\n",
      "Confusion matrix for Test data\n",
      "\n"
     ]
    },
    {
     "data": {
      "text/plain": [
       "Predicted  False  True  __all__\n",
       "Actual                         \n",
       "False        444   149      593\n",
       "True          83   488      571\n",
       "__all__      527   637     1164"
      ]
     },
     "metadata": {},
     "output_type": "display_data"
    },
    {
     "name": "stdout",
     "output_type": "stream",
     "text": [
      "\n",
      "Feature - SIP\n",
      "Accuracy on training data is:  0.710266323024\n",
      "Confusion matrix for Training data\n",
      "\n"
     ]
    },
    {
     "data": {
      "text/plain": [
       "Predicted  False  True  __all__\n",
       "Actual                         \n",
       "False       1398   919     2317\n",
       "True         430  1909     2339\n",
       "__all__     1828  2828     4656"
      ]
     },
     "metadata": {},
     "output_type": "display_data"
    },
    {
     "name": "stdout",
     "output_type": "stream",
     "text": [
      "Accuracy on test data is:  0.707903780069\n",
      "Confusion matrix for Test data\n",
      "\n"
     ]
    },
    {
     "data": {
      "text/plain": [
       "Predicted  False  True  __all__\n",
       "Actual                         \n",
       "False        362   231      593\n",
       "True         109   462      571\n",
       "__all__      471   693     1164"
      ]
     },
     "metadata": {},
     "output_type": "display_data"
    },
    {
     "name": "stdout",
     "output_type": "stream",
     "text": [
      "\n",
      "Feature - DIP\n",
      "Accuracy on training data is:  0.788659793814\n",
      "Confusion matrix for Training data\n",
      "\n"
     ]
    },
    {
     "data": {
      "text/plain": [
       "Predicted  False  True  __all__\n",
       "Actual                         \n",
       "False       1712   605     2317\n",
       "True         379  1960     2339\n",
       "__all__     2091  2565     4656"
      ]
     },
     "metadata": {},
     "output_type": "display_data"
    },
    {
     "name": "stdout",
     "output_type": "stream",
     "text": [
      "Accuracy on test data is:  0.80412371134\n",
      "Confusion matrix for Test data\n",
      "\n"
     ]
    },
    {
     "data": {
      "text/plain": [
       "Predicted  False  True  __all__\n",
       "Actual                         \n",
       "False        453   140      593\n",
       "True          88   483      571\n",
       "__all__      541   623     1164"
      ]
     },
     "metadata": {},
     "output_type": "display_data"
    },
    {
     "name": "stdout",
     "output_type": "stream",
     "text": [
      "\n",
      "Feature - NREC\n",
      "Accuracy on training data is:  0.788659793814\n",
      "Confusion matrix for Training data\n",
      "\n"
     ]
    },
    {
     "data": {
      "text/plain": [
       "Predicted  False  True  __all__\n",
       "Actual                         \n",
       "False       1720   597     2317\n",
       "True         387  1952     2339\n",
       "__all__     2107  2549     4656"
      ]
     },
     "metadata": {},
     "output_type": "display_data"
    },
    {
     "name": "stdout",
     "output_type": "stream",
     "text": [
      "Accuracy on test data is:  0.799828178694\n",
      "Confusion matrix for Test data\n",
      "\n"
     ]
    },
    {
     "data": {
      "text/plain": [
       "Predicted  False  True  __all__\n",
       "Actual                         \n",
       "False        456   137      593\n",
       "True          96   475      571\n",
       "__all__      552   612     1164"
      ]
     },
     "metadata": {},
     "output_type": "display_data"
    },
    {
     "name": "stdout",
     "output_type": "stream",
     "text": [
      "\n",
      "Feature - PAR\n",
      "Accuracy on training data is:  0.675902061856\n",
      "Confusion matrix for Training data\n",
      "\n"
     ]
    },
    {
     "data": {
      "text/plain": [
       "Predicted  False  True  __all__\n",
       "Actual                         \n",
       "False       1452   865     2317\n",
       "True         644  1695     2339\n",
       "__all__     2096  2560     4656"
      ]
     },
     "metadata": {},
     "output_type": "display_data"
    },
    {
     "name": "stdout",
     "output_type": "stream",
     "text": [
      "Accuracy on test data is:  0.687285223368\n",
      "Confusion matrix for Test data\n",
      "\n"
     ]
    },
    {
     "data": {
      "text/plain": [
       "Predicted  False  True  __all__\n",
       "Actual                         \n",
       "False        370   223      593\n",
       "True         141   430      571\n",
       "__all__      511   653     1164"
      ]
     },
     "metadata": {},
     "output_type": "display_data"
    },
    {
     "name": "stdout",
     "output_type": "stream",
     "text": [
      "\n",
      "Feature - PAS\n",
      "Accuracy on training data is:  0.651847079038\n",
      "Confusion matrix for Training data\n",
      "\n"
     ]
    },
    {
     "data": {
      "text/plain": [
       "Predicted  False  True  __all__\n",
       "Actual                         \n",
       "False       1427   890     2317\n",
       "True         731  1608     2339\n",
       "__all__     2158  2498     4656"
      ]
     },
     "metadata": {},
     "output_type": "display_data"
    },
    {
     "name": "stdout",
     "output_type": "stream",
     "text": [
      "Accuracy on test data is:  0.654639175258\n",
      "Confusion matrix for Test data\n",
      "\n"
     ]
    },
    {
     "data": {
      "text/plain": [
       "Predicted  False  True  __all__\n",
       "Actual                         \n",
       "False        354   239      593\n",
       "True         163   408      571\n",
       "__all__      517   647     1164"
      ]
     },
     "metadata": {},
     "output_type": "display_data"
    },
    {
     "name": "stdout",
     "output_type": "stream",
     "text": [
      "\n",
      "Feature - LEN\n",
      "Accuracy on training data is:  0.550687285223\n",
      "Confusion matrix for Training data\n",
      "\n"
     ]
    },
    {
     "data": {
      "text/plain": [
       "Predicted  False  True  __all__\n",
       "Actual                         \n",
       "False       1333   984     2317\n",
       "True        1108  1231     2339\n",
       "__all__     2441  2215     4656"
      ]
     },
     "metadata": {},
     "output_type": "display_data"
    },
    {
     "name": "stdout",
     "output_type": "stream",
     "text": [
      "Accuracy on test data is:  0.546391752577\n",
      "Confusion matrix for Test data\n",
      "\n"
     ]
    },
    {
     "data": {
      "text/plain": [
       "Predicted  False  True  __all__\n",
       "Actual                         \n",
       "False        334   259      593\n",
       "True         269   302      571\n",
       "__all__      603   561     1164"
      ]
     },
     "metadata": {},
     "output_type": "display_data"
    },
    {
     "name": "stdout",
     "output_type": "stream",
     "text": [
      "\n",
      "Feature - BYS\n",
      "Accuracy on training data is:  0.645189003436\n",
      "Confusion matrix for Training data\n",
      "\n"
     ]
    },
    {
     "data": {
      "text/plain": [
       "Predicted  False  True  __all__\n",
       "Actual                         \n",
       "False       1481   836     2317\n",
       "True         816  1523     2339\n",
       "__all__     2297  2359     4656"
      ]
     },
     "metadata": {},
     "output_type": "display_data"
    },
    {
     "name": "stdout",
     "output_type": "stream",
     "text": [
      "Accuracy on test data is:  0.651202749141\n",
      "Confusion matrix for Test data\n",
      "\n"
     ]
    },
    {
     "data": {
      "text/plain": [
       "Predicted  False  True  __all__\n",
       "Actual                         \n",
       "False        381   212      593\n",
       "True         194   377      571\n",
       "__all__      575   589     1164"
      ]
     },
     "metadata": {},
     "output_type": "display_data"
    },
    {
     "name": "stdout",
     "output_type": "stream",
     "text": [
      "\n",
      "Feature - BYR\n",
      "Accuracy on training data is:  0.680412371134\n",
      "Confusion matrix for Training data\n",
      "\n"
     ]
    },
    {
     "data": {
      "text/plain": [
       "Predicted  False  True  __all__\n",
       "Actual                         \n",
       "False       1413   904     2317\n",
       "True         584  1755     2339\n",
       "__all__     1997  2659     4656"
      ]
     },
     "metadata": {},
     "output_type": "display_data"
    },
    {
     "name": "stdout",
     "output_type": "stream",
     "text": [
      "Accuracy on test data is:  0.687285223368\n",
      "Confusion matrix for Test data\n",
      "\n"
     ]
    },
    {
     "data": {
      "text/plain": [
       "Predicted  False  True  __all__\n",
       "Actual                         \n",
       "False        363   230      593\n",
       "True         134   437      571\n",
       "__all__      497   667     1164"
      ]
     },
     "metadata": {},
     "output_type": "display_data"
    },
    {
     "name": "stdout",
     "output_type": "stream",
     "text": [
      "\n",
      "Feature - 0000\n",
      "Accuracy on training data is:  0.791666666667\n",
      "Confusion matrix for Training data\n",
      "\n"
     ]
    },
    {
     "data": {
      "text/plain": [
       "Predicted  False  True  __all__\n",
       "Actual                         \n",
       "False       1744   573     2317\n",
       "True         397  1942     2339\n",
       "__all__     2141  2515     4656"
      ]
     },
     "metadata": {},
     "output_type": "display_data"
    },
    {
     "name": "stdout",
     "output_type": "stream",
     "text": [
      "Accuracy on test data is:  0.810137457045\n",
      "Confusion matrix for Test data\n",
      "\n"
     ]
    },
    {
     "data": {
      "text/plain": [
       "Predicted  False  True  __all__\n",
       "Actual                         \n",
       "False        460   133      593\n",
       "True          88   483      571\n",
       "__all__      548   616     1164"
      ]
     },
     "metadata": {},
     "output_type": "display_data"
    },
    {
     "name": "stdout",
     "output_type": "stream",
     "text": [
      "\n",
      "Feature - 0100\n",
      "Accuracy on training data is:  0.783290378007\n",
      "Confusion matrix for Training data\n",
      "\n"
     ]
    },
    {
     "data": {
      "text/plain": [
       "Predicted  False  True  __all__\n",
       "Actual                         \n",
       "False       1720   597     2317\n",
       "True         412  1927     2339\n",
       "__all__     2132  2524     4656"
      ]
     },
     "metadata": {},
     "output_type": "display_data"
    },
    {
     "name": "stdout",
     "output_type": "stream",
     "text": [
      "Accuracy on test data is:  0.796391752577\n",
      "Confusion matrix for Test data\n",
      "\n"
     ]
    },
    {
     "data": {
      "text/plain": [
       "Predicted  False  True  __all__\n",
       "Actual                         \n",
       "False        450   143      593\n",
       "True          94   477      571\n",
       "__all__      544   620     1164"
      ]
     },
     "metadata": {},
     "output_type": "display_data"
    },
    {
     "name": "stdout",
     "output_type": "stream",
     "text": [
      "\n",
      "Feature - 0200\n",
      "Accuracy on training data is:  0.788874570447\n",
      "Confusion matrix for Training data\n",
      "\n"
     ]
    },
    {
     "data": {
      "text/plain": [
       "Predicted  False  True  __all__\n",
       "Actual                         \n",
       "False       1737   580     2317\n",
       "True         403  1936     2339\n",
       "__all__     2140  2516     4656"
      ]
     },
     "metadata": {},
     "output_type": "display_data"
    },
    {
     "name": "stdout",
     "output_type": "stream",
     "text": [
      "Accuracy on test data is:  0.805841924399\n",
      "Confusion matrix for Test data\n",
      "\n"
     ]
    },
    {
     "data": {
      "text/plain": [
       "Predicted  False  True  __all__\n",
       "Actual                         \n",
       "False        461   132      593\n",
       "True          94   477      571\n",
       "__all__      555   609     1164"
      ]
     },
     "metadata": {},
     "output_type": "display_data"
    },
    {
     "name": "stdout",
     "output_type": "stream",
     "text": [
      "\n",
      "Feature - 0300\n",
      "Accuracy on training data is:  0.784579037801\n",
      "Confusion matrix for Training data\n",
      "\n"
     ]
    },
    {
     "data": {
      "text/plain": [
       "Predicted  False  True  __all__\n",
       "Actual                         \n",
       "False       1730   587     2317\n",
       "True         416  1923     2339\n",
       "__all__     2146  2510     4656"
      ]
     },
     "metadata": {},
     "output_type": "display_data"
    },
    {
     "name": "stdout",
     "output_type": "stream",
     "text": [
      "Accuracy on test data is:  0.797250859107\n",
      "Confusion matrix for Test data\n",
      "\n"
     ]
    },
    {
     "data": {
      "text/plain": [
       "Predicted  False  True  __all__\n",
       "Actual                         \n",
       "False        456   137      593\n",
       "True          99   472      571\n",
       "__all__      555   609     1164"
      ]
     },
     "metadata": {},
     "output_type": "display_data"
    },
    {
     "name": "stdout",
     "output_type": "stream",
     "text": [
      "\n",
      "Feature - 0400\n",
      "Accuracy on training data is:  0.776417525773\n",
      "Confusion matrix for Training data\n",
      "\n"
     ]
    },
    {
     "data": {
      "text/plain": [
       "Predicted  False  True  __all__\n",
       "Actual                         \n",
       "False       1708   609     2317\n",
       "True         432  1907     2339\n",
       "__all__     2140  2516     4656"
      ]
     },
     "metadata": {},
     "output_type": "display_data"
    },
    {
     "name": "stdout",
     "output_type": "stream",
     "text": [
      "Accuracy on test data is:  0.796391752577\n",
      "Confusion matrix for Test data\n",
      "\n"
     ]
    },
    {
     "data": {
      "text/plain": [
       "Predicted  False  True  __all__\n",
       "Actual                         \n",
       "False        457   136      593\n",
       "True         101   470      571\n",
       "__all__      558   606     1164"
      ]
     },
     "metadata": {},
     "output_type": "display_data"
    },
    {
     "name": "stdout",
     "output_type": "stream",
     "text": [
      "\n",
      "Feature - 0500\n",
      "Accuracy on training data is:  0.774484536082\n",
      "Confusion matrix for Training data\n",
      "\n"
     ]
    },
    {
     "data": {
      "text/plain": [
       "Predicted  False  True  __all__\n",
       "Actual                         \n",
       "False       1715   602     2317\n",
       "True         448  1891     2339\n",
       "__all__     2163  2493     4656"
      ]
     },
     "metadata": {},
     "output_type": "display_data"
    },
    {
     "name": "stdout",
     "output_type": "stream",
     "text": [
      "Accuracy on test data is:  0.798969072165\n",
      "Confusion matrix for Test data\n",
      "\n"
     ]
    },
    {
     "data": {
      "text/plain": [
       "Predicted  False  True  __all__\n",
       "Actual                         \n",
       "False        457   136      593\n",
       "True          98   473      571\n",
       "__all__      555   609     1164"
      ]
     },
     "metadata": {},
     "output_type": "display_data"
    },
    {
     "name": "stdout",
     "output_type": "stream",
     "text": [
      "\n",
      "Feature - 0600\n",
      "Accuracy on training data is:  0.76675257732\n",
      "Confusion matrix for Training data\n",
      "\n"
     ]
    },
    {
     "data": {
      "text/plain": [
       "Predicted  False  True  __all__\n",
       "Actual                         \n",
       "False       1663   654     2317\n",
       "True         432  1907     2339\n",
       "__all__     2095  2561     4656"
      ]
     },
     "metadata": {},
     "output_type": "display_data"
    },
    {
     "name": "stdout",
     "output_type": "stream",
     "text": [
      "Accuracy on test data is:  0.784364261168\n",
      "Confusion matrix for Test data\n",
      "\n"
     ]
    },
    {
     "data": {
      "text/plain": [
       "Predicted  False  True  __all__\n",
       "Actual                         \n",
       "False        446   147      593\n",
       "True         104   467      571\n",
       "__all__      550   614     1164"
      ]
     },
     "metadata": {},
     "output_type": "display_data"
    },
    {
     "name": "stdout",
     "output_type": "stream",
     "text": [
      "\n",
      "Feature - 0700\n",
      "Accuracy on training data is:  0.740764604811\n",
      "Confusion matrix for Training data\n",
      "\n"
     ]
    },
    {
     "data": {
      "text/plain": [
       "Predicted  False  True  __all__\n",
       "Actual                         \n",
       "False       1542   775     2317\n",
       "True         432  1907     2339\n",
       "__all__     1974  2682     4656"
      ]
     },
     "metadata": {},
     "output_type": "display_data"
    },
    {
     "name": "stdout",
     "output_type": "stream",
     "text": [
      "Accuracy on test data is:  0.759450171821\n",
      "Confusion matrix for Test data\n",
      "\n"
     ]
    },
    {
     "data": {
      "text/plain": [
       "Predicted  False  True  __all__\n",
       "Actual                         \n",
       "False        409   184      593\n",
       "True          96   475      571\n",
       "__all__      505   659     1164"
      ]
     },
     "metadata": {},
     "output_type": "display_data"
    },
    {
     "name": "stdout",
     "output_type": "stream",
     "text": [
      "\n",
      "Feature - 0800\n",
      "Accuracy on training data is:  0.729381443299\n",
      "Confusion matrix for Training data\n",
      "\n"
     ]
    },
    {
     "data": {
      "text/plain": [
       "Predicted  False  True  __all__\n",
       "Actual                         \n",
       "False       1482   835     2317\n",
       "True         425  1914     2339\n",
       "__all__     1907  2749     4656"
      ]
     },
     "metadata": {},
     "output_type": "display_data"
    },
    {
     "name": "stdout",
     "output_type": "stream",
     "text": [
      "Accuracy on test data is:  0.73883161512\n",
      "Confusion matrix for Test data\n",
      "\n"
     ]
    },
    {
     "data": {
      "text/plain": [
       "Predicted  False  True  __all__\n",
       "Actual                         \n",
       "False        384   209      593\n",
       "True          95   476      571\n",
       "__all__      479   685     1164"
      ]
     },
     "metadata": {},
     "output_type": "display_data"
    },
    {
     "name": "stdout",
     "output_type": "stream",
     "text": [
      "\n",
      "Feature - 0900\n",
      "Accuracy on training data is:  0.728951890034\n",
      "Confusion matrix for Training data\n",
      "\n"
     ]
    },
    {
     "data": {
      "text/plain": [
       "Predicted  False  True  __all__\n",
       "Actual                         \n",
       "False       1455   862     2317\n",
       "True         400  1939     2339\n",
       "__all__     1855  2801     4656"
      ]
     },
     "metadata": {},
     "output_type": "display_data"
    },
    {
     "name": "stdout",
     "output_type": "stream",
     "text": [
      "Accuracy on test data is:  0.747422680412\n",
      "Confusion matrix for Test data\n",
      "\n"
     ]
    },
    {
     "data": {
      "text/plain": [
       "Predicted  False  True  __all__\n",
       "Actual                         \n",
       "False        395   198      593\n",
       "True          96   475      571\n",
       "__all__      491   673     1164"
      ]
     },
     "metadata": {},
     "output_type": "display_data"
    },
    {
     "name": "stdout",
     "output_type": "stream",
     "text": [
      "\n",
      "Feature - 1000\n",
      "Accuracy on training data is:  0.735180412371\n",
      "Confusion matrix for Training data\n",
      "\n"
     ]
    },
    {
     "data": {
      "text/plain": [
       "Predicted  False  True  __all__\n",
       "Actual                         \n",
       "False       1480   837     2317\n",
       "True         396  1943     2339\n",
       "__all__     1876  2780     4656"
      ]
     },
     "metadata": {},
     "output_type": "display_data"
    },
    {
     "name": "stdout",
     "output_type": "stream",
     "text": [
      "Accuracy on test data is:  0.730240549828\n",
      "Confusion matrix for Test data\n",
      "\n"
     ]
    },
    {
     "data": {
      "text/plain": [
       "Predicted  False  True  __all__\n",
       "Actual                         \n",
       "False        384   209      593\n",
       "True         105   466      571\n",
       "__all__      489   675     1164"
      ]
     },
     "metadata": {},
     "output_type": "display_data"
    },
    {
     "name": "stdout",
     "output_type": "stream",
     "text": [
      "\n",
      "Feature - 1100\n",
      "Accuracy on training data is:  0.746778350515\n",
      "Confusion matrix for Training data\n",
      "\n"
     ]
    },
    {
     "data": {
      "text/plain": [
       "Predicted  False  True  __all__\n",
       "Actual                         \n",
       "False       1507   810     2317\n",
       "True         369  1970     2339\n",
       "__all__     1876  2780     4656"
      ]
     },
     "metadata": {},
     "output_type": "display_data"
    },
    {
     "name": "stdout",
     "output_type": "stream",
     "text": [
      "Accuracy on test data is:  0.750859106529\n",
      "Confusion matrix for Test data\n",
      "\n"
     ]
    },
    {
     "data": {
      "text/plain": [
       "Predicted  False  True  __all__\n",
       "Actual                         \n",
       "False        390   203      593\n",
       "True          87   484      571\n",
       "__all__      477   687     1164"
      ]
     },
     "metadata": {},
     "output_type": "display_data"
    },
    {
     "name": "stdout",
     "output_type": "stream",
     "text": [
      "\n",
      "Feature - 1200\n",
      "Accuracy on training data is:  0.753436426117\n",
      "Confusion matrix for Training data\n",
      "\n"
     ]
    },
    {
     "data": {
      "text/plain": [
       "Predicted  False  True  __all__\n",
       "Actual                         \n",
       "False       1536   781     2317\n",
       "True         367  1972     2339\n",
       "__all__     1903  2753     4656"
      ]
     },
     "metadata": {},
     "output_type": "display_data"
    },
    {
     "name": "stdout",
     "output_type": "stream",
     "text": [
      "Accuracy on test data is:  0.756872852234\n",
      "Confusion matrix for Test data\n",
      "\n"
     ]
    },
    {
     "data": {
      "text/plain": [
       "Predicted  False  True  __all__\n",
       "Actual                         \n",
       "False        408   185      593\n",
       "True          98   473      571\n",
       "__all__      506   658     1164"
      ]
     },
     "metadata": {},
     "output_type": "display_data"
    },
    {
     "name": "stdout",
     "output_type": "stream",
     "text": [
      "\n",
      "Feature - 1300\n",
      "Accuracy on training data is:  0.756228522337\n",
      "Confusion matrix for Training data\n",
      "\n"
     ]
    },
    {
     "data": {
      "text/plain": [
       "Predicted  False  True  __all__\n",
       "Actual                         \n",
       "False       1545   772     2317\n",
       "True         363  1976     2339\n",
       "__all__     1908  2748     4656"
      ]
     },
     "metadata": {},
     "output_type": "display_data"
    },
    {
     "name": "stdout",
     "output_type": "stream",
     "text": [
      "Accuracy on test data is:  0.769759450172\n",
      "Confusion matrix for Test data\n",
      "\n"
     ]
    },
    {
     "data": {
      "text/plain": [
       "Predicted  False  True  __all__\n",
       "Actual                         \n",
       "False        409   184      593\n",
       "True          84   487      571\n",
       "__all__      493   671     1164"
      ]
     },
     "metadata": {},
     "output_type": "display_data"
    },
    {
     "name": "stdout",
     "output_type": "stream",
     "text": [
      "\n",
      "Feature - 1400\n",
      "Accuracy on training data is:  0.767182130584\n",
      "Confusion matrix for Training data\n",
      "\n"
     ]
    },
    {
     "data": {
      "text/plain": [
       "Predicted  False  True  __all__\n",
       "Actual                         \n",
       "False       1568   749     2317\n",
       "True         335  2004     2339\n",
       "__all__     1903  2753     4656"
      ]
     },
     "metadata": {},
     "output_type": "display_data"
    },
    {
     "name": "stdout",
     "output_type": "stream",
     "text": [
      "Accuracy on test data is:  0.768900343643\n",
      "Confusion matrix for Test data\n",
      "\n"
     ]
    },
    {
     "data": {
      "text/plain": [
       "Predicted  False  True  __all__\n",
       "Actual                         \n",
       "False        409   184      593\n",
       "True          85   486      571\n",
       "__all__      494   670     1164"
      ]
     },
     "metadata": {},
     "output_type": "display_data"
    },
    {
     "name": "stdout",
     "output_type": "stream",
     "text": [
      "\n",
      "Feature - 1500\n",
      "Accuracy on training data is:  0.764604810997\n",
      "Confusion matrix for Training data\n",
      "\n"
     ]
    },
    {
     "data": {
      "text/plain": [
       "Predicted  False  True  __all__\n",
       "Actual                         \n",
       "False       1577   740     2317\n",
       "True         356  1983     2339\n",
       "__all__     1933  2723     4656"
      ]
     },
     "metadata": {},
     "output_type": "display_data"
    },
    {
     "name": "stdout",
     "output_type": "stream",
     "text": [
      "Accuracy on test data is:  0.767182130584\n",
      "Confusion matrix for Test data\n",
      "\n"
     ]
    },
    {
     "data": {
      "text/plain": [
       "Predicted  False  True  __all__\n",
       "Actual                         \n",
       "False        410   183      593\n",
       "True          88   483      571\n",
       "__all__      498   666     1164"
      ]
     },
     "metadata": {},
     "output_type": "display_data"
    },
    {
     "name": "stdout",
     "output_type": "stream",
     "text": [
      "\n",
      "Feature - 1600\n",
      "Accuracy on training data is:  0.778350515464\n",
      "Confusion matrix for Training data\n",
      "\n"
     ]
    },
    {
     "data": {
      "text/plain": [
       "Predicted  False  True  __all__\n",
       "Actual                         \n",
       "False       1617   700     2317\n",
       "True         332  2007     2339\n",
       "__all__     1949  2707     4656"
      ]
     },
     "metadata": {},
     "output_type": "display_data"
    },
    {
     "name": "stdout",
     "output_type": "stream",
     "text": [
      "Accuracy on test data is:  0.789518900344\n",
      "Confusion matrix for Test data\n",
      "\n"
     ]
    },
    {
     "data": {
      "text/plain": [
       "Predicted  False  True  __all__\n",
       "Actual                         \n",
       "False        425   168      593\n",
       "True          77   494      571\n",
       "__all__      502   662     1164"
      ]
     },
     "metadata": {},
     "output_type": "display_data"
    },
    {
     "name": "stdout",
     "output_type": "stream",
     "text": [
      "\n",
      "Feature - 1700\n",
      "Accuracy on training data is:  0.786512027491\n",
      "Confusion matrix for Training data\n",
      "\n"
     ]
    },
    {
     "data": {
      "text/plain": [
       "Predicted  False  True  __all__\n",
       "Actual                         \n",
       "False       1643   674     2317\n",
       "True         320  2019     2339\n",
       "__all__     1963  2693     4656"
      ]
     },
     "metadata": {},
     "output_type": "display_data"
    },
    {
     "name": "stdout",
     "output_type": "stream",
     "text": [
      "Accuracy on test data is:  0.799828178694\n",
      "Confusion matrix for Test data\n",
      "\n"
     ]
    },
    {
     "data": {
      "text/plain": [
       "Predicted  False  True  __all__\n",
       "Actual                         \n",
       "False        438   155      593\n",
       "True          78   493      571\n",
       "__all__      516   648     1164"
      ]
     },
     "metadata": {},
     "output_type": "display_data"
    },
    {
     "name": "stdout",
     "output_type": "stream",
     "text": [
      "\n",
      "Feature - 1800\n",
      "Accuracy on training data is:  0.788874570447\n",
      "Confusion matrix for Training data\n",
      "\n"
     ]
    },
    {
     "data": {
      "text/plain": [
       "Predicted  False  True  __all__\n",
       "Actual                         \n",
       "False       1653   664     2317\n",
       "True         319  2020     2339\n",
       "__all__     1972  2684     4656"
      ]
     },
     "metadata": {},
     "output_type": "display_data"
    },
    {
     "name": "stdout",
     "output_type": "stream",
     "text": [
      "Accuracy on test data is:  0.79381443299\n",
      "Confusion matrix for Test data\n",
      "\n"
     ]
    },
    {
     "data": {
      "text/plain": [
       "Predicted  False  True  __all__\n",
       "Actual                         \n",
       "False        436   157      593\n",
       "True          83   488      571\n",
       "__all__      519   645     1164"
      ]
     },
     "metadata": {},
     "output_type": "display_data"
    },
    {
     "name": "stdout",
     "output_type": "stream",
     "text": [
      "\n",
      "Feature - 1900\n",
      "Accuracy on training data is:  0.79295532646\n",
      "Confusion matrix for Training data\n",
      "\n"
     ]
    },
    {
     "data": {
      "text/plain": [
       "Predicted  False  True  __all__\n",
       "Actual                         \n",
       "False       1673   644     2317\n",
       "True         320  2019     2339\n",
       "__all__     1993  2663     4656"
      ]
     },
     "metadata": {},
     "output_type": "display_data"
    },
    {
     "name": "stdout",
     "output_type": "stream",
     "text": [
      "Accuracy on test data is:  0.796391752577\n",
      "Confusion matrix for Test data\n",
      "\n"
     ]
    },
    {
     "data": {
      "text/plain": [
       "Predicted  False  True  __all__\n",
       "Actual                         \n",
       "False        431   162      593\n",
       "True          75   496      571\n",
       "__all__      506   658     1164"
      ]
     },
     "metadata": {},
     "output_type": "display_data"
    },
    {
     "name": "stdout",
     "output_type": "stream",
     "text": [
      "\n",
      "Feature - 2000\n",
      "Accuracy on training data is:  0.790378006873\n",
      "Confusion matrix for Training data\n",
      "\n"
     ]
    },
    {
     "data": {
      "text/plain": [
       "Predicted  False  True  __all__\n",
       "Actual                         \n",
       "False       1678   639     2317\n",
       "True         337  2002     2339\n",
       "__all__     2015  2641     4656"
      ]
     },
     "metadata": {},
     "output_type": "display_data"
    },
    {
     "name": "stdout",
     "output_type": "stream",
     "text": [
      "Accuracy on test data is:  0.801546391753\n",
      "Confusion matrix for Test data\n",
      "\n"
     ]
    },
    {
     "data": {
      "text/plain": [
       "Predicted  False  True  __all__\n",
       "Actual                         \n",
       "False        441   152      593\n",
       "True          79   492      571\n",
       "__all__      520   644     1164"
      ]
     },
     "metadata": {},
     "output_type": "display_data"
    },
    {
     "name": "stdout",
     "output_type": "stream",
     "text": [
      "\n",
      "Feature - 2100\n",
      "Accuracy on training data is:  0.791881443299\n",
      "Confusion matrix for Training data\n",
      "\n"
     ]
    },
    {
     "data": {
      "text/plain": [
       "Predicted  False  True  __all__\n",
       "Actual                         \n",
       "False       1697   620     2317\n",
       "True         349  1990     2339\n",
       "__all__     2046  2610     4656"
      ]
     },
     "metadata": {},
     "output_type": "display_data"
    },
    {
     "name": "stdout",
     "output_type": "stream",
     "text": [
      "Accuracy on test data is:  0.80412371134\n",
      "Confusion matrix for Test data\n",
      "\n"
     ]
    },
    {
     "data": {
      "text/plain": [
       "Predicted  False  True  __all__\n",
       "Actual                         \n",
       "False        447   146      593\n",
       "True          82   489      571\n",
       "__all__      529   635     1164"
      ]
     },
     "metadata": {},
     "output_type": "display_data"
    },
    {
     "name": "stdout",
     "output_type": "stream",
     "text": [
      "\n",
      "Feature - 2200\n",
      "Accuracy on training data is:  0.792310996564\n",
      "Confusion matrix for Training data\n",
      "\n"
     ]
    },
    {
     "data": {
      "text/plain": [
       "Predicted  False  True  __all__\n",
       "Actual                         \n",
       "False       1724   593     2317\n",
       "True         374  1965     2339\n",
       "__all__     2098  2558     4656"
      ]
     },
     "metadata": {},
     "output_type": "display_data"
    },
    {
     "name": "stdout",
     "output_type": "stream",
     "text": [
      "Accuracy on test data is:  0.805841924399\n",
      "Confusion matrix for Test data\n",
      "\n"
     ]
    },
    {
     "data": {
      "text/plain": [
       "Predicted  False  True  __all__\n",
       "Actual                         \n",
       "False        455   138      593\n",
       "True          88   483      571\n",
       "__all__      543   621     1164"
      ]
     },
     "metadata": {},
     "output_type": "display_data"
    },
    {
     "name": "stdout",
     "output_type": "stream",
     "text": [
      "\n",
      "Feature - 2300\n",
      "Accuracy on training data is:  0.795317869416\n",
      "Confusion matrix for Training data\n",
      "\n"
     ]
    },
    {
     "data": {
      "text/plain": [
       "Predicted  False  True  __all__\n",
       "Actual                         \n",
       "False       1727   590     2317\n",
       "True         363  1976     2339\n",
       "__all__     2090  2566     4656"
      ]
     },
     "metadata": {},
     "output_type": "display_data"
    },
    {
     "name": "stdout",
     "output_type": "stream",
     "text": [
      "Accuracy on test data is:  0.805841924399\n",
      "Confusion matrix for Test data\n",
      "\n"
     ]
    },
    {
     "data": {
      "text/plain": [
       "Predicted  False  True  __all__\n",
       "Actual                         \n",
       "False        459   134      593\n",
       "True          92   479      571\n",
       "__all__      551   613     1164"
      ]
     },
     "metadata": {},
     "output_type": "display_data"
    }
   ],
   "source": [
    "Y=z.Target.values\n",
    "\n",
    "for col in z.columns[:-1]:\n",
    "    X=z[col].values\n",
    "    scaler=StandardScaler()\n",
    "    scaled_X=scaler.fit_transform(X.reshape(-1, 1))\n",
    "    X_train, X_test, Y_train, Y_test = train_test_split(scaled_X,Y,random_state=0,test_size=0.2)\n",
    "    print(\"\\nFeature -\",col)\n",
    "    clf = LogisticRegression()\n",
    "    clf.fit(X_train, Y_train)\n",
    "    print(\"Accuracy on training data is: \",clf.score(X_train,Y_train))\n",
    "    y_pred=clf.predict(X_test)\n",
    "    print(\"Confusion matrix for Training data\\n\")\n",
    "    display(cm(Y_train,clf.predict(X_train)))\n",
    "    print(\"Accuracy on test data is: \",accuracy_score(Y_test,y_pred))\n",
    "    print(\"Confusion matrix for Test data\\n\")\n",
    "    display(cm(Y_test,y_pred))"
   ]
  },
  {
   "cell_type": "markdown",
   "metadata": {},
   "source": [
    "### One class classification with SVM - https://scikit-learn.org/stable/modules/generated/sklearn.svm.OneClassSVM.html#sklearn.svm.OneClassSVM"
   ]
  },
  {
   "cell_type": "markdown",
   "metadata": {},
   "source": [
    "### For all malicious users"
   ]
  },
  {
   "cell_type": "code",
   "execution_count": 11,
   "metadata": {
    "scrolled": false
   },
   "outputs": [
    {
     "name": "stdout",
     "output_type": "stream",
     "text": [
      "\n",
      "Feature - SP\n",
      "Accuracy on training data is:  0.900343642612\n",
      "Accuracy on test data is:  0.900343642612\n",
      "\n",
      "Feature - DP\n",
      "Accuracy on training data is:  0.892611683849\n",
      "Accuracy on test data is:  0.90206185567\n",
      "\n",
      "Feature - NAPP\n",
      "Accuracy on training data is:  0.910223367698\n",
      "Accuracy on test data is:  0.912371134021\n",
      "\n",
      "Feature - SIP\n",
      "Accuracy on training data is:  0.898195876289\n",
      "Accuracy on test data is:  0.898625429553\n",
      "\n",
      "Feature - DIP\n",
      "Accuracy on training data is:  0.899914089347\n",
      "Accuracy on test data is:  0.893470790378\n",
      "\n",
      "Feature - NREC\n",
      "Accuracy on training data is:  0.900343642612\n",
      "Accuracy on test data is:  0.905498281787\n",
      "\n",
      "Feature - PAR\n",
      "Accuracy on training data is:  0.899914089347\n",
      "Accuracy on test data is:  0.872852233677\n",
      "\n",
      "Feature - PAS\n",
      "Accuracy on training data is:  0.899914089347\n",
      "Accuracy on test data is:  0.883161512027\n",
      "\n",
      "Feature - LEN\n",
      "Accuracy on training data is:  0.899914089347\n",
      "Accuracy on test data is:  0.90206185567\n",
      "\n",
      "Feature - BYS\n",
      "Accuracy on training data is:  0.899914089347\n",
      "Accuracy on test data is:  0.881443298969\n",
      "\n",
      "Feature - BYR\n",
      "Accuracy on training data is:  0.899484536082\n",
      "Accuracy on test data is:  0.878006872852\n",
      "\n",
      "Feature - 0000\n",
      "Accuracy on training data is:  0.892182130584\n",
      "Accuracy on test data is:  0.879725085911\n",
      "\n",
      "Feature - 0100\n",
      "Accuracy on training data is:  0.951030927835\n",
      "Accuracy on test data is:  0.951890034364\n",
      "\n",
      "Feature - 0200\n",
      "Accuracy on training data is:  0.878436426117\n",
      "Accuracy on test data is:  0.893470790378\n",
      "\n",
      "Feature - 0300\n",
      "Accuracy on training data is:  0.95060137457\n",
      "Accuracy on test data is:  0.95704467354\n",
      "\n",
      "Feature - 0400\n",
      "Accuracy on training data is:  0.862972508591\n",
      "Accuracy on test data is:  0.867697594502\n",
      "\n",
      "Feature - 0500\n",
      "Accuracy on training data is:  0.9514604811\n",
      "Accuracy on test data is:  0.962199312715\n",
      "\n",
      "Feature - 0600\n",
      "Accuracy on training data is:  0.86941580756\n",
      "Accuracy on test data is:  0.855670103093\n",
      "\n",
      "Feature - 0700\n",
      "Accuracy on training data is:  0.884879725086\n",
      "Accuracy on test data is:  0.872852233677\n",
      "\n",
      "Feature - 0800\n",
      "Accuracy on training data is:  0.902920962199\n",
      "Accuracy on test data is:  0.895189003436\n",
      "\n",
      "Feature - 0900\n",
      "Accuracy on training data is:  0.897766323024\n",
      "Accuracy on test data is:  0.89175257732\n",
      "\n",
      "Feature - 1000\n",
      "Accuracy on training data is:  0.900773195876\n",
      "Accuracy on test data is:  0.89175257732\n",
      "\n",
      "Feature - 1100\n",
      "Accuracy on training data is:  0.899484536082\n",
      "Accuracy on test data is:  0.898625429553\n",
      "\n",
      "Feature - 1200\n",
      "Accuracy on training data is:  0.900343642612\n",
      "Accuracy on test data is:  0.905498281787\n",
      "\n",
      "Feature - 1300\n",
      "Accuracy on training data is:  0.898625429553\n",
      "Accuracy on test data is:  0.884879725086\n",
      "\n",
      "Feature - 1400\n",
      "Accuracy on training data is:  0.898195876289\n",
      "Accuracy on test data is:  0.89175257732\n",
      "\n",
      "Feature - 1500\n",
      "Accuracy on training data is:  0.900773195876\n",
      "Accuracy on test data is:  0.895189003436\n",
      "\n",
      "Feature - 1600\n",
      "Accuracy on training data is:  0.900773195876\n",
      "Accuracy on test data is:  0.895189003436\n",
      "\n",
      "Feature - 1700\n",
      "Accuracy on training data is:  0.89647766323\n",
      "Accuracy on test data is:  0.874570446735\n",
      "\n",
      "Feature - 1800\n",
      "Accuracy on training data is:  0.897336769759\n",
      "Accuracy on test data is:  0.874570446735\n",
      "\n",
      "Feature - 1900\n",
      "Accuracy on training data is:  0.899914089347\n",
      "Accuracy on test data is:  0.85910652921\n",
      "\n",
      "Feature - 2000\n",
      "Accuracy on training data is:  0.897766323024\n",
      "Accuracy on test data is:  0.883161512027\n",
      "\n",
      "Feature - 2100\n",
      "Accuracy on training data is:  0.899914089347\n",
      "Accuracy on test data is:  0.876288659794\n",
      "\n",
      "Feature - 2200\n",
      "Accuracy on training data is:  0.89647766323\n",
      "Accuracy on test data is:  0.881443298969\n",
      "\n",
      "Feature - 2300\n",
      "Accuracy on training data is:  0.893470790378\n",
      "Accuracy on test data is:  0.890034364261\n"
     ]
    }
   ],
   "source": [
    "z_mal=z[z.Target.values==1]\n",
    "\n",
    "Y=z_mal.Target\n",
    "\n",
    "for col in z_mal.columns[:-1]:\n",
    "    X=z_mal[col].values\n",
    "    scaler=StandardScaler()\n",
    "    scaled_X=scaler.fit_transform(X.reshape(-1,1))\n",
    "    X_train, X_test, Y_train, Y_test = train_test_split(scaled_X,Y,random_state=0,test_size=0.2)\n",
    "    print(\"\\nFeature -\",col)\n",
    "    \n",
    "    clf = svm.OneClassSVM(nu=0.1, kernel=\"rbf\", gamma=0.1)\n",
    "    clf.fit(X_train)\n",
    "    y_pred_train = clf.predict(X_train)\n",
    "    y_pred_test = clf.predict(X_test)\n",
    "    print(\"Accuracy on training data is: \",accuracy_score(Y_train,y_pred_train))\n",
    "    \n",
    "    y_pred=clf.predict(X_test)\n",
    "    print(\"Accuracy on test data is: \",accuracy_score(Y_test,y_pred_test))\n",
    " "
   ]
  },
  {
   "cell_type": "markdown",
   "metadata": {},
   "source": [
    "### For Non-Malicious Users"
   ]
  },
  {
   "cell_type": "code",
   "execution_count": 12,
   "metadata": {
    "scrolled": false
   },
   "outputs": [
    {
     "name": "stdout",
     "output_type": "stream",
     "text": [
      "\n",
      "Feature - SP\n",
      "Accuracy on training data is:  0.901202749141\n",
      "Accuracy on test data is:  0.90206185567\n",
      "\n",
      "Feature - DP\n",
      "Accuracy on training data is:  0.908934707904\n",
      "Accuracy on test data is:  0.893470790378\n",
      "\n",
      "Feature - NAPP\n",
      "Accuracy on training data is:  0.915807560137\n",
      "Accuracy on test data is:  0.900343642612\n",
      "\n",
      "Feature - SIP\n",
      "Accuracy on training data is:  0.84793814433\n",
      "Accuracy on test data is:  0.833333333333\n",
      "\n",
      "Feature - DIP\n",
      "Accuracy on training data is:  0.898625429553\n",
      "Accuracy on test data is:  0.890034364261\n",
      "\n",
      "Feature - NREC\n",
      "Accuracy on training data is:  0.902920962199\n",
      "Accuracy on test data is:  0.90206185567\n",
      "\n",
      "Feature - PAR\n",
      "Accuracy on training data is:  0.900343642612\n",
      "Accuracy on test data is:  0.893470790378\n",
      "\n",
      "Feature - PAS\n",
      "Accuracy on training data is:  0.899914089347\n",
      "Accuracy on test data is:  0.903780068729\n",
      "\n",
      "Feature - LEN\n",
      "Accuracy on training data is:  0.897766323024\n",
      "Accuracy on test data is:  0.895189003436\n",
      "\n",
      "Feature - BYS\n",
      "Accuracy on training data is:  0.899914089347\n",
      "Accuracy on test data is:  0.883161512027\n",
      "\n",
      "Feature - BYR\n",
      "Accuracy on training data is:  0.900343642612\n",
      "Accuracy on test data is:  0.890034364261\n",
      "\n",
      "Feature - 0000\n",
      "Accuracy on training data is:  0.952319587629\n",
      "Accuracy on test data is:  0.932989690722\n",
      "\n",
      "Feature - 0100\n",
      "Accuracy on training data is:  0.952319587629\n",
      "Accuracy on test data is:  0.951890034364\n",
      "\n",
      "Feature - 0200\n",
      "Accuracy on training data is:  0.952319587629\n",
      "Accuracy on test data is:  0.955326460481\n",
      "\n",
      "Feature - 0300\n",
      "Accuracy on training data is:  0.952319587629\n",
      "Accuracy on test data is:  0.95704467354\n",
      "\n",
      "Feature - 0400\n",
      "Accuracy on training data is:  0.408505154639\n",
      "Accuracy on test data is:  0.40206185567\n",
      "\n",
      "Feature - 0500\n",
      "Accuracy on training data is:  0.445446735395\n",
      "Accuracy on test data is:  0.439862542955\n",
      "\n",
      "Feature - 0600\n",
      "Accuracy on training data is:  0.953178694158\n",
      "Accuracy on test data is:  0.958762886598\n",
      "\n",
      "Feature - 0700\n",
      "Accuracy on training data is:  0.953178694158\n",
      "Accuracy on test data is:  0.955326460481\n",
      "\n",
      "Feature - 0800\n",
      "Accuracy on training data is:  0.953178694158\n",
      "Accuracy on test data is:  0.958762886598\n",
      "\n",
      "Feature - 0900\n",
      "Accuracy on training data is:  0.67439862543\n",
      "Accuracy on test data is:  0.680412371134\n",
      "\n",
      "Feature - 1000\n",
      "Accuracy on training data is:  0.713487972509\n",
      "Accuracy on test data is:  0.731958762887\n",
      "\n",
      "Feature - 1100\n",
      "Accuracy on training data is:  0.951030927835\n",
      "Accuracy on test data is:  0.974226804124\n",
      "\n",
      "Feature - 1200\n",
      "Accuracy on training data is:  0.721649484536\n",
      "Accuracy on test data is:  0.726804123711\n",
      "\n",
      "Feature - 1300\n",
      "Accuracy on training data is:  0.951890034364\n",
      "Accuracy on test data is:  0.963917525773\n",
      "\n",
      "Feature - 1400\n",
      "Accuracy on training data is:  0.951890034364\n",
      "Accuracy on test data is:  0.960481099656\n",
      "\n",
      "Feature - 1500\n",
      "Accuracy on training data is:  0.951890034364\n",
      "Accuracy on test data is:  0.962199312715\n",
      "\n",
      "Feature - 1600\n",
      "Accuracy on training data is:  0.952319587629\n",
      "Accuracy on test data is:  0.960481099656\n",
      "\n",
      "Feature - 1700\n",
      "Accuracy on training data is:  0.951890034364\n",
      "Accuracy on test data is:  0.953608247423\n",
      "\n",
      "Feature - 1800\n",
      "Accuracy on training data is:  0.645618556701\n",
      "Accuracy on test data is:  0.658075601375\n",
      "\n",
      "Feature - 1900\n",
      "Accuracy on training data is:  0.952319587629\n",
      "Accuracy on test data is:  0.963917525773\n",
      "\n",
      "Feature - 2000\n",
      "Accuracy on training data is:  0.5764604811\n",
      "Accuracy on test data is:  0.561855670103\n",
      "\n",
      "Feature - 2100\n",
      "Accuracy on training data is:  0.526632302405\n",
      "Accuracy on test data is:  0.539518900344\n",
      "\n",
      "Feature - 2200\n",
      "Accuracy on training data is:  0.951030927835\n",
      "Accuracy on test data is:  0.96735395189\n",
      "\n",
      "Feature - 2300\n",
      "Accuracy on training data is:  0.9514604811\n",
      "Accuracy on test data is:  0.945017182131\n"
     ]
    }
   ],
   "source": [
    "z_non=z[z.Target.values==0]\n",
    "\n",
    "Y=z_non.Target.apply(lambda x: 1 if x==0 else 0)\n",
    "\n",
    "for col in z_non.columns[:-1]:\n",
    "    X=z_non[col].values\n",
    "    scaler=StandardScaler()\n",
    "    scaled_X=scaler.fit_transform(X.reshape(-1,1))\n",
    "    X_train, X_test, Y_train, Y_test = train_test_split(scaled_X,Y,random_state=0,test_size=0.2)\n",
    "    print(\"\\nFeature -\",col)\n",
    "    \n",
    "    clf = svm.OneClassSVM(nu=0.1, kernel=\"rbf\", gamma=0.1)\n",
    "    clf.fit(X_train)\n",
    "    y_pred_train = clf.predict(X_train)\n",
    "    y_pred_test = clf.predict(X_test)\n",
    "    print(\"Accuracy on training data is: \",accuracy_score(Y_train,y_pred_train))\n",
    "    \n",
    "    y_pred=clf.predict(X_test)\n",
    "    print(\"Accuracy on test data is: \",accuracy_score(Y_test,y_pred_test))\n",
    " "
   ]
  },
  {
   "cell_type": "code",
   "execution_count": 13,
   "metadata": {},
   "outputs": [
    {
     "data": {
      "text/html": [
       "<script>\n",
       "code_show=true; \n",
       "function code_toggle() {\n",
       " if (code_show){\n",
       " $('div.input').hide();\n",
       " } else {\n",
       " $('div.input').show();\n",
       " }\n",
       " code_show = !code_show\n",
       "} \n",
       "$( document ).ready(code_toggle);\n",
       "</script>\n",
       "To toggle code, click <a href=\"javascript:code_toggle()\">here</a>."
      ],
      "text/plain": [
       "<IPython.core.display.HTML object>"
      ]
     },
     "execution_count": 13,
     "metadata": {},
     "output_type": "execute_result"
    }
   ],
   "source": [
    "### Original Creator : Darshan Bhansali\n",
    "### HTML code to hide the input cells \n",
    "HTML('''<script>\n",
    "code_show=true; \n",
    "function code_toggle() {\n",
    " if (code_show){\n",
    " $('div.input').hide();\n",
    " } else {\n",
    " $('div.input').show();\n",
    " }\n",
    " code_show = !code_show\n",
    "} \n",
    "$( document ).ready(code_toggle);\n",
    "</script>\n",
    "To toggle code, click <a href=\"javascript:code_toggle()\">here</a>.''')"
   ]
  },
  {
   "cell_type": "code",
   "execution_count": null,
   "metadata": {
    "collapsed": true
   },
   "outputs": [],
   "source": []
  }
 ],
 "metadata": {
  "kernelspec": {
   "display_name": "Python 3",
   "language": "python",
   "name": "python3"
  },
  "language_info": {
   "codemirror_mode": {
    "name": "ipython",
    "version": 3
   },
   "file_extension": ".py",
   "mimetype": "text/x-python",
   "name": "python",
   "nbconvert_exporter": "python",
   "pygments_lexer": "ipython3",
   "version": "3.6.6"
  }
 },
 "nbformat": 4,
 "nbformat_minor": 2
}
